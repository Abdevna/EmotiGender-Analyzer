{
 "cells": [
  {
   "cell_type": "markdown",
   "id": "1791155f",
   "metadata": {
    "papermill": {
     "duration": 0.005909,
     "end_time": "2024-01-25T08:15:44.912959",
     "exception": false,
     "start_time": "2024-01-25T08:15:44.907050",
     "status": "completed"
    },
    "tags": []
   },
   "source": [
    "# Gender Classification "
   ]
  },
  {
   "cell_type": "code",
   "execution_count": 1,
   "id": "65138bb6",
   "metadata": {
    "execution": {
     "iopub.execute_input": "2024-01-25T08:15:44.925697Z",
     "iopub.status.busy": "2024-01-25T08:15:44.925241Z",
     "iopub.status.idle": "2024-01-25T08:16:03.096454Z",
     "shell.execute_reply": "2024-01-25T08:16:03.095373Z"
    },
    "papermill": {
     "duration": 18.180645,
     "end_time": "2024-01-25T08:16:03.099068",
     "exception": false,
     "start_time": "2024-01-25T08:15:44.918423",
     "status": "completed"
    },
    "tags": []
   },
   "outputs": [
    {
     "name": "stdout",
     "output_type": "stream",
     "text": [
      "Requirement already satisfied: wandb in /opt/conda/lib/python3.10/site-packages (0.16.1)\r\n",
      "Collecting wandb\r\n",
      "  Obtaining dependency information for wandb from https://files.pythonhosted.org/packages/28/3b/f1485df03e33a390b833081693e56be9e62fef097a82c26ef615605f768d/wandb-0.16.2-py3-none-any.whl.metadata\r\n",
      "  Downloading wandb-0.16.2-py3-none-any.whl.metadata (9.8 kB)\r\n",
      "Requirement already satisfied: Click!=8.0.0,>=7.1 in /opt/conda/lib/python3.10/site-packages (from wandb) (8.1.7)\r\n",
      "Requirement already satisfied: GitPython!=3.1.29,>=1.0.0 in /opt/conda/lib/python3.10/site-packages (from wandb) (3.1.32)\r\n",
      "Requirement already satisfied: requests<3,>=2.0.0 in /opt/conda/lib/python3.10/site-packages (from wandb) (2.31.0)\r\n",
      "Requirement already satisfied: psutil>=5.0.0 in /opt/conda/lib/python3.10/site-packages (from wandb) (5.9.3)\r\n",
      "Requirement already satisfied: sentry-sdk>=1.0.0 in /opt/conda/lib/python3.10/site-packages (from wandb) (1.39.0)\r\n",
      "Requirement already satisfied: docker-pycreds>=0.4.0 in /opt/conda/lib/python3.10/site-packages (from wandb) (0.4.0)\r\n",
      "Requirement already satisfied: PyYAML in /opt/conda/lib/python3.10/site-packages (from wandb) (6.0.1)\r\n",
      "Requirement already satisfied: setproctitle in /opt/conda/lib/python3.10/site-packages (from wandb) (1.3.3)\r\n",
      "Requirement already satisfied: setuptools in /opt/conda/lib/python3.10/site-packages (from wandb) (68.1.2)\r\n",
      "Requirement already satisfied: appdirs>=1.4.3 in /opt/conda/lib/python3.10/site-packages (from wandb) (1.4.4)\r\n",
      "Requirement already satisfied: protobuf!=4.21.0,<5,>=3.19.0 in /opt/conda/lib/python3.10/site-packages (from wandb) (3.20.3)\r\n",
      "Requirement already satisfied: six>=1.4.0 in /opt/conda/lib/python3.10/site-packages (from docker-pycreds>=0.4.0->wandb) (1.16.0)\r\n",
      "Requirement already satisfied: gitdb<5,>=4.0.1 in /opt/conda/lib/python3.10/site-packages (from GitPython!=3.1.29,>=1.0.0->wandb) (4.0.10)\r\n",
      "Requirement already satisfied: charset-normalizer<4,>=2 in /opt/conda/lib/python3.10/site-packages (from requests<3,>=2.0.0->wandb) (3.2.0)\r\n",
      "Requirement already satisfied: idna<4,>=2.5 in /opt/conda/lib/python3.10/site-packages (from requests<3,>=2.0.0->wandb) (3.4)\r\n",
      "Requirement already satisfied: urllib3<3,>=1.21.1 in /opt/conda/lib/python3.10/site-packages (from requests<3,>=2.0.0->wandb) (1.26.15)\r\n",
      "Requirement already satisfied: certifi>=2017.4.17 in /opt/conda/lib/python3.10/site-packages (from requests<3,>=2.0.0->wandb) (2023.11.17)\r\n",
      "Requirement already satisfied: smmap<6,>=3.0.1 in /opt/conda/lib/python3.10/site-packages (from gitdb<5,>=4.0.1->GitPython!=3.1.29,>=1.0.0->wandb) (5.0.0)\r\n",
      "Downloading wandb-0.16.2-py3-none-any.whl (2.2 MB)\r\n",
      "\u001b[2K   \u001b[90m━━━━━━━━━━━━━━━━━━━━━━━━━━━━━━━━━━━━━━━━\u001b[0m \u001b[32m2.2/2.2 MB\u001b[0m \u001b[31m23.2 MB/s\u001b[0m eta \u001b[36m0:00:00\u001b[0m\r\n",
      "\u001b[?25hInstalling collected packages: wandb\r\n",
      "  Attempting uninstall: wandb\r\n",
      "    Found existing installation: wandb 0.16.1\r\n",
      "    Uninstalling wandb-0.16.1:\r\n",
      "      Successfully uninstalled wandb-0.16.1\r\n",
      "Successfully installed wandb-0.16.2\r\n"
     ]
    }
   ],
   "source": [
    "!pip install --upgrade wandb"
   ]
  },
  {
   "cell_type": "code",
   "execution_count": 2,
   "id": "d134af88",
   "metadata": {
    "execution": {
     "iopub.execute_input": "2024-01-25T08:16:03.115632Z",
     "iopub.status.busy": "2024-01-25T08:16:03.115253Z",
     "iopub.status.idle": "2024-01-25T08:16:17.644731Z",
     "shell.execute_reply": "2024-01-25T08:16:17.643654Z"
    },
    "papermill": {
     "duration": 14.541412,
     "end_time": "2024-01-25T08:16:17.647407",
     "exception": false,
     "start_time": "2024-01-25T08:16:03.105995",
     "status": "completed"
    },
    "tags": []
   },
   "outputs": [
    {
     "name": "stderr",
     "output_type": "stream",
     "text": [
      "/opt/conda/lib/python3.10/site-packages/scipy/__init__.py:146: UserWarning: A NumPy version >=1.16.5 and <1.23.0 is required for this version of SciPy (detected version 1.24.3\n",
      "  warnings.warn(f\"A NumPy version >={np_minversion} and <{np_maxversion}\"\n"
     ]
    }
   ],
   "source": [
    "import os\n",
    "import pandas as pd\n",
    "import numpy as np\n",
    "import cv2 as cv\n",
    "from glob import glob\n",
    "import matplotlib.pyplot as plt\n",
    "import seaborn as sns\n",
    "from keras.preprocessing.image import ImageDataGenerator\n",
    "from tensorflow.keras.utils import array_to_img, img_to_array, load_img\n",
    "\n",
    "%matplotlib inline"
   ]
  },
  {
   "cell_type": "code",
   "execution_count": 3,
   "id": "ee04eae9",
   "metadata": {
    "execution": {
     "iopub.execute_input": "2024-01-25T08:16:17.663826Z",
     "iopub.status.busy": "2024-01-25T08:16:17.662623Z",
     "iopub.status.idle": "2024-01-25T08:16:19.913789Z",
     "shell.execute_reply": "2024-01-25T08:16:19.912746Z"
    },
    "papermill": {
     "duration": 2.261747,
     "end_time": "2024-01-25T08:16:19.916304",
     "exception": false,
     "start_time": "2024-01-25T08:16:17.654557",
     "status": "completed"
    },
    "tags": []
   },
   "outputs": [
    {
     "name": "stderr",
     "output_type": "stream",
     "text": [
      "\u001b[34m\u001b[1mwandb\u001b[0m: W&B API key is configured. Use \u001b[1m`wandb login --relogin`\u001b[0m to force relogin\n",
      "\u001b[34m\u001b[1mwandb\u001b[0m: \u001b[33mWARNING\u001b[0m If you're specifying your api key in code, ensure this code is not shared publicly.\n",
      "\u001b[34m\u001b[1mwandb\u001b[0m: \u001b[33mWARNING\u001b[0m Consider setting the WANDB_API_KEY environment variable, or running `wandb login` from the command line.\n",
      "\u001b[34m\u001b[1mwandb\u001b[0m: Appending key for api.wandb.ai to your netrc file: /root/.netrc\n"
     ]
    }
   ],
   "source": [
    "import wandb\n",
    "try:\n",
    "    from kaggle_secrets import UserSecretsClient\n",
    "    user_secrets = UserSecretsClient()\n",
    "    api_key = user_secrets.get_secret(\"wandb_api\")\n",
    "    wandb.login(key=api_key)\n",
    "    anony = None\n",
    "except:\n",
    "    anony = \"must\"\n",
    "    print('If you want to use your W&B account, go to Add-ons -> Secrets and provide your W&B access token. Use the Label name as wandb_api. \\nGet your W&B access token from here: https://wandb.ai/authorize')"
   ]
  },
  {
   "cell_type": "code",
   "execution_count": 4,
   "id": "34ea9d2c",
   "metadata": {
    "execution": {
     "iopub.execute_input": "2024-01-25T08:16:19.932405Z",
     "iopub.status.busy": "2024-01-25T08:16:19.931834Z",
     "iopub.status.idle": "2024-01-25T08:16:19.936703Z",
     "shell.execute_reply": "2024-01-25T08:16:19.935765Z"
    },
    "papermill": {
     "duration": 0.015152,
     "end_time": "2024-01-25T08:16:19.938864",
     "exception": false,
     "start_time": "2024-01-25T08:16:19.923712",
     "status": "completed"
    },
    "tags": []
   },
   "outputs": [],
   "source": [
    "gender_df_train=\"/kaggle/input/gender-classification-dataset/Training/\"\n",
    "gender_df_test=\"/kaggle/input/gender-classification-dataset/Validation\"\n",
    "fer_df_train=\"/kaggle/input/fer2013/train/\"\n",
    "fer_df_test=\"/kaggle/input/fer2013/test\""
   ]
  },
  {
   "cell_type": "code",
   "execution_count": 5,
   "id": "c29f867b",
   "metadata": {
    "execution": {
     "iopub.execute_input": "2024-01-25T08:16:19.953808Z",
     "iopub.status.busy": "2024-01-25T08:16:19.953510Z",
     "iopub.status.idle": "2024-01-25T08:16:38.786312Z",
     "shell.execute_reply": "2024-01-25T08:16:38.785165Z"
    },
    "papermill": {
     "duration": 18.843752,
     "end_time": "2024-01-25T08:16:38.789378",
     "exception": false,
     "start_time": "2024-01-25T08:16:19.945626",
     "status": "completed"
    },
    "tags": []
   },
   "outputs": [
    {
     "name": "stdout",
     "output_type": "stream",
     "text": [
      "Found 47009 images belonging to 2 classes.\n"
     ]
    }
   ],
   "source": [
    "#For Training Dataset\n",
    "train_datagen = ImageDataGenerator(\n",
    "        rotation_range = 40,\n",
    "        shear_range = 0.2,\n",
    "        zoom_range = 0.2,\n",
    "        horizontal_flip = True,\n",
    "        brightness_range = (0.5, 1.5))\n",
    "\n",
    "train_gen=train_datagen.flow_from_directory(gender_df_train,\n",
    "                                            target_size=(250,250),\n",
    "                                            batch_size=48,\n",
    "                                            class_mode='binary')"
   ]
  },
  {
   "cell_type": "markdown",
   "id": "56462aa6",
   "metadata": {
    "papermill": {
     "duration": 0.007212,
     "end_time": "2024-01-25T08:16:38.804706",
     "exception": false,
     "start_time": "2024-01-25T08:16:38.797494",
     "status": "completed"
    },
    "tags": []
   },
   "source": [
    "# Data Augmentation\n",
    "\n",
    "1. To increase the data set size \n",
    "2. Helps overcome the “not enough data” issue, prevents overfitting, and makes the model perform better on previously unseen samples. "
   ]
  },
  {
   "cell_type": "code",
   "execution_count": 6,
   "id": "c86363d1",
   "metadata": {
    "execution": {
     "iopub.execute_input": "2024-01-25T08:16:38.821688Z",
     "iopub.status.busy": "2024-01-25T08:16:38.820759Z",
     "iopub.status.idle": "2024-01-25T08:20:36.631952Z",
     "shell.execute_reply": "2024-01-25T08:20:36.630982Z"
    },
    "papermill": {
     "duration": 237.822714,
     "end_time": "2024-01-25T08:20:36.634771",
     "exception": false,
     "start_time": "2024-01-25T08:16:38.812057",
     "status": "completed"
    },
    "tags": []
   },
   "outputs": [],
   "source": [
    "import os\n",
    "from keras.preprocessing import image\n",
    "\n",
    "# Specify the directory where you want to save augmented images\n",
    "augmented_dir = 'path/to/augmented_images'\n",
    "\n",
    "# Create the directory if it doesn't exist\n",
    "if not os.path.exists(augmented_dir):\n",
    "    os.makedirs(augmented_dir)\n",
    "\n",
    "# Number of augmented images to generate\n",
    "num_augmented_images = 100  # You can adjust this based on your requirements\n",
    "\n",
    "# Generate and save augmented images\n",
    "for i in range(num_augmented_images):\n",
    "    # Generate a batch of augmented images\n",
    "    batch, labels = train_gen.next()\n",
    "\n",
    "    # Save each augmented image in the batch to the new directory\n",
    "    for j in range(len(batch)):\n",
    "        img = image.array_to_img(batch[j])\n",
    "        img.save(os.path.join(augmented_dir, f'augmented_image_{i * len(batch) + j}.png'))"
   ]
  },
  {
   "cell_type": "code",
   "execution_count": 7,
   "id": "26f4848d",
   "metadata": {
    "execution": {
     "iopub.execute_input": "2024-01-25T08:20:36.650620Z",
     "iopub.status.busy": "2024-01-25T08:20:36.650229Z",
     "iopub.status.idle": "2024-01-25T08:23:58.564372Z",
     "shell.execute_reply": "2024-01-25T08:23:58.563395Z"
    },
    "papermill": {
     "duration": 201.932055,
     "end_time": "2024-01-25T08:23:58.574212",
     "exception": false,
     "start_time": "2024-01-25T08:20:36.642157",
     "status": "completed"
    },
    "tags": []
   },
   "outputs": [
    {
     "data": {
      "text/plain": [
       "'path/to/training_combined_dataset/augmented_images'"
      ]
     },
     "execution_count": 7,
     "metadata": {},
     "output_type": "execute_result"
    }
   ],
   "source": [
    "import shutil\n",
    "\n",
    "# Define a new directory for the combined dataset\n",
    "combined_dir = 'path/to/training_combined_dataset'\n",
    "\n",
    "# Create the combined directory if it doesn't exist\n",
    "if not os.path.exists(combined_dir):\n",
    "    os.makedirs(combined_dir)\n",
    "\n",
    "# Copy original training images to the combined directory\n",
    "original_train_dir = '/kaggle/input/gender-classification-dataset/Training/'\n",
    "shutil.copytree(original_train_dir, os.path.join(combined_dir, 'original_training_images'))\n",
    "\n",
    "# Copy augmented images to the combined directory\n",
    "augmented_dir = 'path/to/augmented_images'\n",
    "shutil.copytree(augmented_dir, os.path.join(combined_dir, 'augmented_images'))"
   ]
  },
  {
   "cell_type": "code",
   "execution_count": 8,
   "id": "113aa27c",
   "metadata": {
    "execution": {
     "iopub.execute_input": "2024-01-25T08:23:58.590469Z",
     "iopub.status.busy": "2024-01-25T08:23:58.590096Z",
     "iopub.status.idle": "2024-01-25T08:23:58.594417Z",
     "shell.execute_reply": "2024-01-25T08:23:58.593449Z"
    },
    "papermill": {
     "duration": 0.014966,
     "end_time": "2024-01-25T08:23:58.596563",
     "exception": false,
     "start_time": "2024-01-25T08:23:58.581597",
     "status": "completed"
    },
    "tags": []
   },
   "outputs": [],
   "source": [
    "combined=\"/kaggle/working/path/to/training_combined_dataset\""
   ]
  },
  {
   "cell_type": "code",
   "execution_count": 9,
   "id": "6719f558",
   "metadata": {
    "execution": {
     "iopub.execute_input": "2024-01-25T08:23:58.613146Z",
     "iopub.status.busy": "2024-01-25T08:23:58.612855Z",
     "iopub.status.idle": "2024-01-25T08:25:05.671880Z",
     "shell.execute_reply": "2024-01-25T08:25:05.670834Z"
    },
    "papermill": {
     "duration": 67.069821,
     "end_time": "2024-01-25T08:25:05.674659",
     "exception": false,
     "start_time": "2024-01-25T08:23:58.604838",
     "status": "completed"
    },
    "tags": []
   },
   "outputs": [],
   "source": [
    "import cv2 as cv\n",
    "import os\n",
    "import numpy as np\n",
    "\n",
    "data_train = []\n",
    "labels_train = []\n",
    "\n",
    "new_width = 128\n",
    "new_height = 128\n",
    "\n",
    "# Access original training images\n",
    "original_train_dir = '/kaggle/input/gender-classification-dataset/Training'\n",
    "for class_label in os.listdir(original_train_dir):\n",
    "    class_dir = os.path.join(original_train_dir, class_label)\n",
    "    \n",
    "    for filename in os.listdir(class_dir):\n",
    "        file_path = os.path.join(class_dir, filename)\n",
    "\n",
    "        # Read the image using OpenCV\n",
    "        pic = cv.imread(file_path)\n",
    "\n",
    "        # Check if the image was successfully loaded\n",
    "        if pic is not None:\n",
    "            # Convert the image to grayscale\n",
    "            pic = cv.cvtColor(pic, cv.COLOR_BGR2GRAY)\n",
    "\n",
    "            # Resize the image\n",
    "            pic = cv.resize(pic, (new_width, new_height))\n",
    "\n",
    "            # Append the image to the data_train list\n",
    "            data_train.append(pic)\n",
    "\n",
    "            # Extract the label from the subdirectory name\n",
    "            label = 1 if class_label.lower() == \"female\" else 0\n",
    "            labels_train.append(label)\n",
    "        else:\n",
    "            print(f\"Error loading image: {file_path}\")\n",
    "\n",
    "# Access augmented images\n",
    "augmented_subdir = os.path.join(combined_dir, 'augmented_images')\n",
    "for filename in os.listdir(augmented_subdir):\n",
    "    file_path = os.path.join(augmented_subdir, filename)\n",
    "\n",
    "    # Read the image using OpenCV\n",
    "    pic = cv.imread(file_path)\n",
    "\n",
    "    # Check if the image was successfully loaded\n",
    "    if pic is not None:\n",
    "        # Convert the image to grayscale\n",
    "        pic = cv.cvtColor(pic, cv.COLOR_BGR2GRAY)\n",
    "\n",
    "        # Resize the image\n",
    "        pic = cv.resize(pic, (new_width, new_height))\n",
    "\n",
    "        # Append the image to the data_train list\n",
    "        data_train.append(pic)\n",
    "\n",
    "        # Extract the label from the filename\n",
    "        label = 1 if \"female\" in filename else 0\n",
    "        labels_train.append(label)\n",
    "    else:\n",
    "        print(f\"Error loading image: {file_path}\")\n",
    "\n",
    "# Convert lists to NumPy arrays\n",
    "data_train = np.array(data_train)\n",
    "labels_train = np.array(labels_train)"
   ]
  },
  {
   "cell_type": "code",
   "execution_count": 10,
   "id": "c5390071",
   "metadata": {
    "execution": {
     "iopub.execute_input": "2024-01-25T08:25:05.691267Z",
     "iopub.status.busy": "2024-01-25T08:25:05.690857Z",
     "iopub.status.idle": "2024-01-25T08:25:18.613016Z",
     "shell.execute_reply": "2024-01-25T08:25:18.612067Z"
    },
    "papermill": {
     "duration": 12.933205,
     "end_time": "2024-01-25T08:25:18.615548",
     "exception": false,
     "start_time": "2024-01-25T08:25:05.682343",
     "status": "completed"
    },
    "tags": []
   },
   "outputs": [
    {
     "name": "stdout",
     "output_type": "stream",
     "text": [
      "Found 11649 images belonging to 2 classes.\n"
     ]
    }
   ],
   "source": [
    "#For Test Dataset\n",
    "test_datagen = ImageDataGenerator(validation_split = 0.2)\n",
    "\n",
    "valid_gen=test_datagen.flow_from_directory(gender_df_test,\n",
    "                                           target_size=(250,250),\n",
    "                                           batch_size=48,\n",
    "                                           class_mode='binary')"
   ]
  },
  {
   "cell_type": "code",
   "execution_count": 11,
   "id": "779d0157",
   "metadata": {
    "execution": {
     "iopub.execute_input": "2024-01-25T08:25:18.632473Z",
     "iopub.status.busy": "2024-01-25T08:25:18.632129Z",
     "iopub.status.idle": "2024-01-25T08:25:18.863876Z",
     "shell.execute_reply": "2024-01-25T08:25:18.862503Z"
    },
    "papermill": {
     "duration": 0.242888,
     "end_time": "2024-01-25T08:25:18.866575",
     "exception": false,
     "start_time": "2024-01-25T08:25:18.623687",
     "status": "completed"
    },
    "tags": []
   },
   "outputs": [],
   "source": [
    "import tensorflow as tf\n",
    "from keras.models import Sequential\n",
    "from keras.layers import Conv2D, MaxPooling2D, Flatten, Dense, Dropout\n",
    "from keras.optimizers import Adam\n",
    "from keras.callbacks import EarlyStopping\n",
    "from keras.regularizers import l2\n",
    "from sklearn.metrics import confusion_matrix,ConfusionMatrixDisplay\n",
    "from sklearn.metrics import classification_report, roc_curve, auc\n",
    "import matplotlib.pyplot as plt\n",
    "import seaborn as sns\n",
    "from sklearn.model_selection import train_test_split\n",
    "import numpy as np\n",
    "from tensorflow.keras.utils import plot_model\n"
   ]
  },
  {
   "cell_type": "code",
   "execution_count": 12,
   "id": "ae217140",
   "metadata": {
    "execution": {
     "iopub.execute_input": "2024-01-25T08:25:18.883685Z",
     "iopub.status.busy": "2024-01-25T08:25:18.883331Z",
     "iopub.status.idle": "2024-01-25T08:25:18.898648Z",
     "shell.execute_reply": "2024-01-25T08:25:18.897683Z"
    },
    "papermill": {
     "duration": 0.026396,
     "end_time": "2024-01-25T08:25:18.900925",
     "exception": false,
     "start_time": "2024-01-25T08:25:18.874529",
     "status": "completed"
    },
    "tags": []
   },
   "outputs": [],
   "source": [
    "# Define the VGGNet16 model\n",
    "def create_vggnet16_model(input_shape=(128, 128, 1)):\n",
    "    model = Sequential()\n",
    "\n",
    "    # Block 1\n",
    "    model.add(Conv2D(64, (3, 3), activation='relu', padding='same', input_shape=input_shape))\n",
    "    model.add(Conv2D(64, (3, 3), activation='relu', padding='same'))\n",
    "    model.add(MaxPooling2D(pool_size=(2, 2), strides=(2, 2)))\n",
    "\n",
    "    # Block 2\n",
    "    model.add(Conv2D(128, (3, 3), activation='relu', padding='same'))\n",
    "    model.add(Conv2D(128, (3, 3), activation='relu', padding='same'))\n",
    "    model.add(MaxPooling2D(pool_size=(2, 2), strides=(2, 2)))\n",
    "\n",
    "    # Block 3\n",
    "    model.add(Conv2D(256, (3, 3), activation='relu', padding='same'))\n",
    "    model.add(Conv2D(256, (3, 3), activation='relu', padding='same'))\n",
    "    model.add(Conv2D(256, (3, 3), activation='relu', padding='same'))\n",
    "    model.add(MaxPooling2D(pool_size=(2, 2), strides=(2, 2)))\n",
    "\n",
    "    # Block 4\n",
    "    model.add(Conv2D(512, (3, 3), activation='relu', padding='same'))\n",
    "    model.add(Conv2D(512, (3, 3), activation='relu', padding='same'))\n",
    "    model.add(Conv2D(512, (3, 3), activation='relu', padding='same'))\n",
    "    model.add(MaxPooling2D(pool_size=(2, 2), strides=(2, 2)))\n",
    "    \n",
    "    # Block 5\n",
    "    model.add(Conv2D(512, (3, 3), activation='relu', padding='same'))\n",
    "    model.add(Conv2D(512, (3, 3), activation='relu', padding='same'))\n",
    "    model.add(Conv2D(512, (3, 3), activation='relu', padding='same'))\n",
    "    model.add(MaxPooling2D(pool_size=(2, 2), strides=(2, 2)))\n",
    "\n",
    "    # Fully connected layers\n",
    "    model.add(Flatten())\n",
    "    model.add(Dense(512, activation='relu'))\n",
    "    model.add(Dropout(0.5))\n",
    "    \n",
    "    # Output layer\n",
    "    model.add(Dense(2, activation='softmax'))\n",
    "    \n",
    "    model.summary()\n",
    "    plot_model(model)\n",
    "    return model"
   ]
  },
  {
   "cell_type": "code",
   "execution_count": 13,
   "id": "57057fdf",
   "metadata": {
    "execution": {
     "iopub.execute_input": "2024-01-25T08:25:18.918172Z",
     "iopub.status.busy": "2024-01-25T08:25:18.917773Z",
     "iopub.status.idle": "2024-01-25T08:41:50.488993Z",
     "shell.execute_reply": "2024-01-25T08:41:50.487788Z"
    },
    "papermill": {
     "duration": 991.582915,
     "end_time": "2024-01-25T08:41:50.491660",
     "exception": false,
     "start_time": "2024-01-25T08:25:18.908745",
     "status": "completed"
    },
    "tags": []
   },
   "outputs": [
    {
     "name": "stderr",
     "output_type": "stream",
     "text": [
      "\u001b[34m\u001b[1mwandb\u001b[0m: Currently logged in as: \u001b[33mdishaa_s\u001b[0m. Use \u001b[1m`wandb login --relogin`\u001b[0m to force relogin\n",
      "\u001b[34m\u001b[1mwandb\u001b[0m: Tracking run with wandb version 0.16.2\n",
      "\u001b[34m\u001b[1mwandb\u001b[0m: Run data is saved locally in \u001b[35m\u001b[1m/kaggle/working/wandb/run-20240125_082519-im9l8pwm\u001b[0m\n",
      "\u001b[34m\u001b[1mwandb\u001b[0m: Run \u001b[1m`wandb offline`\u001b[0m to turn off syncing.\n",
      "\u001b[34m\u001b[1mwandb\u001b[0m: Syncing run \u001b[33mfearless-wind-17\u001b[0m\n",
      "\u001b[34m\u001b[1mwandb\u001b[0m: ⭐️ View project at \u001b[34m\u001b[4mhttps://wandb.ai/dishaa_s/gender-recognition-from-images\u001b[0m\n",
      "\u001b[34m\u001b[1mwandb\u001b[0m: 🚀 View run at \u001b[34m\u001b[4mhttps://wandb.ai/dishaa_s/gender-recognition-from-images/runs/im9l8pwm\u001b[0m\n"
     ]
    },
    {
     "name": "stdout",
     "output_type": "stream",
     "text": [
      "Model: \"sequential\"\n",
      "_________________________________________________________________\n",
      " Layer (type)                Output Shape              Param #   \n",
      "=================================================================\n",
      " conv2d (Conv2D)             (None, 128, 128, 64)      640       \n",
      "                                                                 \n",
      " conv2d_1 (Conv2D)           (None, 128, 128, 64)      36928     \n",
      "                                                                 \n",
      " max_pooling2d (MaxPooling2  (None, 64, 64, 64)        0         \n",
      " D)                                                              \n",
      "                                                                 \n",
      " conv2d_2 (Conv2D)           (None, 64, 64, 128)       73856     \n",
      "                                                                 \n",
      " conv2d_3 (Conv2D)           (None, 64, 64, 128)       147584    \n",
      "                                                                 \n",
      " max_pooling2d_1 (MaxPoolin  (None, 32, 32, 128)       0         \n",
      " g2D)                                                            \n",
      "                                                                 \n",
      " conv2d_4 (Conv2D)           (None, 32, 32, 256)       295168    \n",
      "                                                                 \n",
      " conv2d_5 (Conv2D)           (None, 32, 32, 256)       590080    \n",
      "                                                                 \n",
      " conv2d_6 (Conv2D)           (None, 32, 32, 256)       590080    \n",
      "                                                                 \n",
      " max_pooling2d_2 (MaxPoolin  (None, 16, 16, 256)       0         \n",
      " g2D)                                                            \n",
      "                                                                 \n",
      " conv2d_7 (Conv2D)           (None, 16, 16, 512)       1180160   \n",
      "                                                                 \n",
      " conv2d_8 (Conv2D)           (None, 16, 16, 512)       2359808   \n",
      "                                                                 \n",
      " conv2d_9 (Conv2D)           (None, 16, 16, 512)       2359808   \n",
      "                                                                 \n",
      " max_pooling2d_3 (MaxPoolin  (None, 8, 8, 512)         0         \n",
      " g2D)                                                            \n",
      "                                                                 \n",
      " conv2d_10 (Conv2D)          (None, 8, 8, 512)         2359808   \n",
      "                                                                 \n",
      " conv2d_11 (Conv2D)          (None, 8, 8, 512)         2359808   \n",
      "                                                                 \n",
      " conv2d_12 (Conv2D)          (None, 8, 8, 512)         2359808   \n",
      "                                                                 \n",
      " max_pooling2d_4 (MaxPoolin  (None, 4, 4, 512)         0         \n",
      " g2D)                                                            \n",
      "                                                                 \n",
      " flatten (Flatten)           (None, 8192)              0         \n",
      "                                                                 \n",
      " dense (Dense)               (None, 512)               4194816   \n",
      "                                                                 \n",
      " dropout (Dropout)           (None, 512)               0         \n",
      "                                                                 \n",
      " dense_1 (Dense)             (None, 2)                 1026      \n",
      "                                                                 \n",
      "=================================================================\n",
      "Total params: 18909378 (72.13 MB)\n",
      "Trainable params: 18909378 (72.13 MB)\n",
      "Non-trainable params: 0 (0.00 Byte)\n",
      "_________________________________________________________________\n",
      "Epoch 1/15\n",
      "324/324 [==============================] - 112s 300ms/step - loss: 4.4445 - accuracy: 0.5452 - val_loss: 0.6933 - val_accuracy: 0.4737\n",
      "Epoch 2/15\n",
      "324/324 [==============================] - 89s 274ms/step - loss: 1.7191 - accuracy: 0.5594 - val_loss: 0.6882 - val_accuracy: 0.5515\n",
      "Epoch 3/15\n",
      "324/324 [==============================] - 89s 274ms/step - loss: 0.6880 - accuracy: 0.5513 - val_loss: 0.6878 - val_accuracy: 0.5515\n",
      "Epoch 4/15\n",
      "324/324 [==============================] - 89s 274ms/step - loss: 0.6879 - accuracy: 0.5513 - val_loss: 0.6878 - val_accuracy: 0.5515\n",
      "Epoch 5/15\n",
      "324/324 [==============================] - 89s 274ms/step - loss: 0.6879 - accuracy: 0.5513 - val_loss: 0.6878 - val_accuracy: 0.5515\n",
      "Epoch 6/15\n",
      "324/324 [==============================] - 89s 273ms/step - loss: 0.6879 - accuracy: 0.5513 - val_loss: 0.6878 - val_accuracy: 0.5515\n",
      "Epoch 7/15\n",
      "324/324 [==============================] - 89s 274ms/step - loss: 0.6879 - accuracy: 0.5513 - val_loss: 0.6878 - val_accuracy: 0.5515\n",
      "Epoch 8/15\n",
      "324/324 [==============================] - 89s 273ms/step - loss: 0.6879 - accuracy: 0.5513 - val_loss: 0.6878 - val_accuracy: 0.5515\n",
      "Epoch 9/15\n",
      "324/324 [==============================] - 89s 273ms/step - loss: 0.6879 - accuracy: 0.5513 - val_loss: 0.6879 - val_accuracy: 0.5515\n",
      "Epoch 10/15\n",
      "324/324 [==============================] - 89s 274ms/step - loss: 0.6879 - accuracy: 0.5513 - val_loss: 0.6878 - val_accuracy: 0.5515\n",
      "324/324 [==============================] - 9s 25ms/step - loss: 0.6878 - accuracy: 0.5515\n",
      "1296/1296 [==============================] - 30s 23ms/step - loss: 294753312.0000 - accuracy: 0.5513\n",
      "Test Loss: 0.6878, Test Accuracy: 0.5515\n",
      "Train Loss: 294753312.0000, Train Accuracy: 0.5513\n",
      "324/324 [==============================] - 7s 20ms/step\n"
     ]
    }
   ],
   "source": [
    "dataset = np.array(data_train)\n",
    "labels = np.array(labels_train)\n",
    "\n",
    "# Split the dataset into training and testing sets\n",
    "X_train, X_test, y_train, y_test = train_test_split(dataset, labels, test_size=0.2, random_state=42)\n",
    "\n",
    "run=wandb.init(project='gender-recognition-from-images',\n",
    "              config={\n",
    "                  'learning_rate':0.001,\n",
    "                  'batch_size': 128,\n",
    "                  'epochs': 10, \n",
    "                  'test_size' : 0.2})\n",
    "\n",
    "config=wandb.config\n",
    "\n",
    "# Create and compile the VGGNet16 model\n",
    "model = create_vggnet16_model()\n",
    "optimizer = tf.keras.optimizers.Adam(config.learning_rate)\n",
    "model.compile(optimizer, loss='sparse_categorical_crossentropy', metrics=['accuracy'])\n",
    "\n",
    "# Define early stopping\n",
    "early_stopping = EarlyStopping(monitor='val_loss', patience=3, restore_best_weights=True)\n",
    "\n",
    "# Train the model\n",
    "history = model.fit(X_train, y_train, epochs=15, batch_size=128, validation_data=(X_test, y_test), callbacks=[early_stopping])\n",
    "\n",
    "# Print test loss, test accuracy, train loss, train accuracy\n",
    "test_loss, test_accuracy = model.evaluate(X_test, y_test)\n",
    "train_loss, train_accuracy = model.evaluate(X_train, y_train)\n",
    "print(f\"Test Loss: {test_loss:.4f}, Test Accuracy: {test_accuracy:.4f}\")\n",
    "print(f\"Train Loss: {train_loss:.4f}, Train Accuracy: {train_accuracy:.4f}\")\n",
    "    \n",
    "# Predict on test set\n",
    "y_pred = model.predict(X_test)\n",
    "\n",
    "# Convert predictions to class labels\n",
    "y_pred_classes = np.argmax(y_pred, axis=1)"
   ]
  },
  {
   "cell_type": "code",
   "execution_count": 14,
   "id": "19fef0cb",
   "metadata": {
    "execution": {
     "iopub.execute_input": "2024-01-25T08:41:51.219295Z",
     "iopub.status.busy": "2024-01-25T08:41:51.218899Z",
     "iopub.status.idle": "2024-01-25T08:41:51.587573Z",
     "shell.execute_reply": "2024-01-25T08:41:51.586076Z"
    },
    "papermill": {
     "duration": 0.73452,
     "end_time": "2024-01-25T08:41:51.590172",
     "exception": false,
     "start_time": "2024-01-25T08:41:50.855652",
     "status": "completed"
    },
    "tags": []
   },
   "outputs": [
    {
     "data": {
      "image/png": "[encoded data removed]",
      "text/plain": [
       "<Figure size 800x600 with 2 Axes>"
      ]
     },
     "metadata": {},
     "output_type": "display_data"
    },
    {
     "name": "stdout",
     "output_type": "stream",
     "text": [
      "Classification Report:\n",
      "              precision    recall  f1-score   support\n",
      "\n",
      "           0       0.55      1.00      0.71      5715\n",
      "           1       0.00      0.00      0.00      4647\n",
      "\n",
      "    accuracy                           0.55     10362\n",
      "   macro avg       0.28      0.50      0.36     10362\n",
      "weighted avg       0.30      0.55      0.39     10362\n",
      "\n"
     ]
    },
    {
     "name": "stderr",
     "output_type": "stream",
     "text": [
      "/opt/conda/lib/python3.10/site-packages/sklearn/metrics/_classification.py:1344: UndefinedMetricWarning: Precision and F-score are ill-defined and being set to 0.0 in labels with no predicted samples. Use `zero_division` parameter to control this behavior.\n",
      "  _warn_prf(average, modifier, msg_start, len(result))\n",
      "/opt/conda/lib/python3.10/site-packages/sklearn/metrics/_classification.py:1344: UndefinedMetricWarning: Precision and F-score are ill-defined and being set to 0.0 in labels with no predicted samples. Use `zero_division` parameter to control this behavior.\n",
      "  _warn_prf(average, modifier, msg_start, len(result))\n",
      "/opt/conda/lib/python3.10/site-packages/sklearn/metrics/_classification.py:1344: UndefinedMetricWarning: Precision and F-score are ill-defined and being set to 0.0 in labels with no predicted samples. Use `zero_division` parameter to control this behavior.\n",
      "  _warn_prf(average, modifier, msg_start, len(result))\n"
     ]
    }
   ],
   "source": [
    "# Create confusion matrix\n",
    "conf_matrix = confusion_matrix(y_test, y_pred_classes)\n",
    "\n",
    "# Visualize confusion matrix\n",
    "plt.figure(figsize=(8, 6))\n",
    "sns.heatmap(conf_matrix, annot=True, fmt='d', cmap='viridis', xticklabels=['Male', 'Female'], yticklabels=['Male', 'Female'])\n",
    "plt.title('Confusion Matrix')\n",
    "plt.xlabel('Predicted')\n",
    "plt.ylabel('True')\n",
    "plt.show()\n",
    "\n",
    "# Display classification report\n",
    "print(\"Classification Report:\")\n",
    "print(classification_report(y_test, y_pred_classes))"
   ]
  },
  {
   "cell_type": "code",
   "execution_count": 15,
   "id": "ee80f0f9",
   "metadata": {
    "execution": {
     "iopub.execute_input": "2024-01-25T08:41:52.386626Z",
     "iopub.status.busy": "2024-01-25T08:41:52.386170Z",
     "iopub.status.idle": "2024-01-25T08:41:52.676946Z",
     "shell.execute_reply": "2024-01-25T08:41:52.675700Z"
    },
    "papermill": {
     "duration": 0.678826,
     "end_time": "2024-01-25T08:41:52.679374",
     "exception": false,
     "start_time": "2024-01-25T08:41:52.000548",
     "status": "completed"
    },
    "tags": []
   },
   "outputs": [
    {
     "data": {
      "image/png": "[encoded data removed]",
      "text/plain": [
       "<Figure size 640x480 with 1 Axes>"
      ]
     },
     "metadata": {},
     "output_type": "display_data"
    }
   ],
   "source": [
    "# Plot train loss and validation loss over epochs\n",
    "plt.plot(history.history['loss'], label='Train Loss')\n",
    "plt.plot(history.history['val_loss'], label='Validation Loss')\n",
    "plt.xlabel('Epochs')\n",
    "plt.ylabel('Loss')\n",
    "plt.legend()\n",
    "plt.show()"
   ]
  },
  {
   "cell_type": "code",
   "execution_count": 16,
   "id": "a9ea30d8",
   "metadata": {
    "execution": {
     "iopub.execute_input": "2024-01-25T08:41:53.485520Z",
     "iopub.status.busy": "2024-01-25T08:41:53.484712Z",
     "iopub.status.idle": "2024-01-25T08:41:53.886823Z",
     "shell.execute_reply": "2024-01-25T08:41:53.885870Z"
    },
    "papermill": {
     "duration": 0.774642,
     "end_time": "2024-01-25T08:41:53.889268",
     "exception": false,
     "start_time": "2024-01-25T08:41:53.114626",
     "status": "completed"
    },
    "tags": []
   },
   "outputs": [
    {
     "name": "stderr",
     "output_type": "stream",
     "text": [
      "/opt/conda/lib/python3.10/site-packages/keras/src/engine/training.py:3000: UserWarning: You are saving your model as an HDF5 file via `model.save()`. This file format is considered legacy. We recommend using instead the native Keras format, e.g. `model.save('my_model.keras')`.\n",
      "  saving_api.save_model(\n"
     ]
    }
   ],
   "source": [
    "model.save('model.h5')"
   ]
  }
 ],
 "metadata": {
  "kaggle": {
   "accelerator": "gpu",
   "dataSources": [
    {
     "datasetId": 446365,
     "sourceId": 844929,
     "sourceType": "datasetVersion"
    },
    {
     "datasetId": 786787,
     "sourceId": 1351797,
     "sourceType": "datasetVersion"
    }
   ],
   "dockerImageVersionId": 30626,
   "isGpuEnabled": true,
   "isInternetEnabled": true,
   "language": "python",
   "sourceType": "notebook"
  },
  "kernelspec": {
   "display_name": "Python 3",
   "language": "python",
   "name": "python3"
  },
  "language_info": {
   "codemirror_mode": {
    "name": "ipython",
    "version": 3
   },
   "file_extension": ".py",
   "mimetype": "text/x-python",
   "name": "python",
   "nbconvert_exporter": "python",
   "pygments_lexer": "ipython3",
   "version": "3.10.12"
  },
  "papermill": {
   "default_parameters": {},
   "duration": 1575.947866,
   "end_time": "2024-01-25T08:41:57.185546",
   "environment_variables": {},
   "exception": null,
   "input_path": "__notebook__.ipynb",
   "output_path": "__notebook__.ipynb",
   "parameters": {},
   "start_time": "2024-01-25T08:15:41.237680",
   "version": "2.4.0"
  }
 },
 "nbformat": 4,
 "nbformat_minor": 5
}
