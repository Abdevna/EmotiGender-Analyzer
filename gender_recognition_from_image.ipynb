{
 "cells": [
  {
   "cell_type": "markdown",
   "id": "be59f665",
   "metadata": {
    "papermill": {
     "duration": 0.005605,
     "end_time": "2024-01-25T12:53:55.298397",
     "exception": false,
     "start_time": "2024-01-25T12:53:55.292792",
     "status": "completed"
    },
    "tags": []
   },
   "source": [
    "# Gender Classification "
   ]
  },
  {
   "cell_type": "code",
   "execution_count": 1,
   "id": "cccdc865",
   "metadata": {
    "execution": {
     "iopub.execute_input": "2024-01-25T12:53:55.310126Z",
     "iopub.status.busy": "2024-01-25T12:53:55.309785Z",
     "iopub.status.idle": "2024-01-25T12:54:11.503333Z",
     "shell.execute_reply": "2024-01-25T12:54:11.502179Z"
    },
    "papermill": {
     "duration": 16.202381,
     "end_time": "2024-01-25T12:54:11.506041",
     "exception": false,
     "start_time": "2024-01-25T12:53:55.303660",
     "status": "completed"
    },
    "tags": []
   },
   "outputs": [
    {
     "name": "stdout",
     "output_type": "stream",
     "text": [
      "Requirement already satisfied: wandb in /opt/conda/lib/python3.10/site-packages (0.16.1)\r\n",
      "Collecting wandb\r\n",
      "  Obtaining dependency information for wandb from https://files.pythonhosted.org/packages/28/3b/f1485df03e33a390b833081693e56be9e62fef097a82c26ef615605f768d/wandb-0.16.2-py3-none-any.whl.metadata\r\n",
      "  Downloading wandb-0.16.2-py3-none-any.whl.metadata (9.8 kB)\r\n",
      "Requirement already satisfied: Click!=8.0.0,>=7.1 in /opt/conda/lib/python3.10/site-packages (from wandb) (8.1.7)\r\n",
      "Requirement already satisfied: GitPython!=3.1.29,>=1.0.0 in /opt/conda/lib/python3.10/site-packages (from wandb) (3.1.32)\r\n",
      "Requirement already satisfied: requests<3,>=2.0.0 in /opt/conda/lib/python3.10/site-packages (from wandb) (2.31.0)\r\n",
      "Requirement already satisfied: psutil>=5.0.0 in /opt/conda/lib/python3.10/site-packages (from wandb) (5.9.3)\r\n",
      "Requirement already satisfied: sentry-sdk>=1.0.0 in /opt/conda/lib/python3.10/site-packages (from wandb) (1.39.0)\r\n",
      "Requirement already satisfied: docker-pycreds>=0.4.0 in /opt/conda/lib/python3.10/site-packages (from wandb) (0.4.0)\r\n",
      "Requirement already satisfied: PyYAML in /opt/conda/lib/python3.10/site-packages (from wandb) (6.0.1)\r\n",
      "Requirement already satisfied: setproctitle in /opt/conda/lib/python3.10/site-packages (from wandb) (1.3.3)\r\n",
      "Requirement already satisfied: setuptools in /opt/conda/lib/python3.10/site-packages (from wandb) (68.1.2)\r\n",
      "Requirement already satisfied: appdirs>=1.4.3 in /opt/conda/lib/python3.10/site-packages (from wandb) (1.4.4)\r\n",
      "Requirement already satisfied: protobuf!=4.21.0,<5,>=3.19.0 in /opt/conda/lib/python3.10/site-packages (from wandb) (3.20.3)\r\n",
      "Requirement already satisfied: six>=1.4.0 in /opt/conda/lib/python3.10/site-packages (from docker-pycreds>=0.4.0->wandb) (1.16.0)\r\n",
      "Requirement already satisfied: gitdb<5,>=4.0.1 in /opt/conda/lib/python3.10/site-packages (from GitPython!=3.1.29,>=1.0.0->wandb) (4.0.10)\r\n",
      "Requirement already satisfied: charset-normalizer<4,>=2 in /opt/conda/lib/python3.10/site-packages (from requests<3,>=2.0.0->wandb) (3.2.0)\r\n",
      "Requirement already satisfied: idna<4,>=2.5 in /opt/conda/lib/python3.10/site-packages (from requests<3,>=2.0.0->wandb) (3.4)\r\n",
      "Requirement already satisfied: urllib3<3,>=1.21.1 in /opt/conda/lib/python3.10/site-packages (from requests<3,>=2.0.0->wandb) (1.26.15)\r\n",
      "Requirement already satisfied: certifi>=2017.4.17 in /opt/conda/lib/python3.10/site-packages (from requests<3,>=2.0.0->wandb) (2023.11.17)\r\n",
      "Requirement already satisfied: smmap<6,>=3.0.1 in /opt/conda/lib/python3.10/site-packages (from gitdb<5,>=4.0.1->GitPython!=3.1.29,>=1.0.0->wandb) (5.0.0)\r\n",
      "Downloading wandb-0.16.2-py3-none-any.whl (2.2 MB)\r\n",
      "\u001b[2K   \u001b[90m━━━━━━━━━━━━━━━━━━━━━━━━━━━━━━━━━━━━━━━━\u001b[0m \u001b[32m2.2/2.2 MB\u001b[0m \u001b[31m35.8 MB/s\u001b[0m eta \u001b[36m0:00:00\u001b[0m\r\n",
      "\u001b[?25hInstalling collected packages: wandb\r\n",
      "  Attempting uninstall: wandb\r\n",
      "    Found existing installation: wandb 0.16.1\r\n",
      "    Uninstalling wandb-0.16.1:\r\n",
      "      Successfully uninstalled wandb-0.16.1\r\n",
      "Successfully installed wandb-0.16.2\r\n"
     ]
    }
   ],
   "source": [
    "!pip install --upgrade wandb"
   ]
  },
  {
   "cell_type": "code",
   "execution_count": 2,
   "id": "f78eb769",
   "metadata": {
    "execution": {
     "iopub.execute_input": "2024-01-25T12:54:11.520512Z",
     "iopub.status.busy": "2024-01-25T12:54:11.519839Z",
     "iopub.status.idle": "2024-01-25T12:54:24.757553Z",
     "shell.execute_reply": "2024-01-25T12:54:24.756496Z"
    },
    "papermill": {
     "duration": 13.247658,
     "end_time": "2024-01-25T12:54:24.760164",
     "exception": false,
     "start_time": "2024-01-25T12:54:11.512506",
     "status": "completed"
    },
    "tags": []
   },
   "outputs": [
    {
     "name": "stderr",
     "output_type": "stream",
     "text": [
      "/opt/conda/lib/python3.10/site-packages/scipy/__init__.py:146: UserWarning: A NumPy version >=1.16.5 and <1.23.0 is required for this version of SciPy (detected version 1.24.3\n",
      "  warnings.warn(f\"A NumPy version >={np_minversion} and <{np_maxversion}\"\n"
     ]
    }
   ],
   "source": [
    "import os\n",
    "import pandas as pd\n",
    "import numpy as np\n",
    "import cv2 as cv\n",
    "from glob import glob\n",
    "import matplotlib.pyplot as plt\n",
    "import seaborn as sns\n",
    "from keras.preprocessing.image import ImageDataGenerator\n",
    "from tensorflow.keras.utils import array_to_img, img_to_array, load_img\n",
    "\n",
    "%matplotlib inline"
   ]
  },
  {
   "cell_type": "code",
   "execution_count": 3,
   "id": "4058164e",
   "metadata": {
    "execution": {
     "iopub.execute_input": "2024-01-25T12:54:24.776390Z",
     "iopub.status.busy": "2024-01-25T12:54:24.775766Z",
     "iopub.status.idle": "2024-01-25T12:54:27.203293Z",
     "shell.execute_reply": "2024-01-25T12:54:27.202467Z"
    },
    "papermill": {
     "duration": 2.437853,
     "end_time": "2024-01-25T12:54:27.205452",
     "exception": false,
     "start_time": "2024-01-25T12:54:24.767599",
     "status": "completed"
    },
    "tags": []
   },
   "outputs": [
    {
     "name": "stderr",
     "output_type": "stream",
     "text": [
      "\u001b[34m\u001b[1mwandb\u001b[0m: W&B API key is configured. Use \u001b[1m`wandb login --relogin`\u001b[0m to force relogin\n",
      "\u001b[34m\u001b[1mwandb\u001b[0m: \u001b[33mWARNING\u001b[0m If you're specifying your api key in code, ensure this code is not shared publicly.\n",
      "\u001b[34m\u001b[1mwandb\u001b[0m: \u001b[33mWARNING\u001b[0m Consider setting the WANDB_API_KEY environment variable, or running `wandb login` from the command line.\n",
      "\u001b[34m\u001b[1mwandb\u001b[0m: Appending key for api.wandb.ai to your netrc file: /root/.netrc\n"
     ]
    }
   ],
   "source": [
    "import wandb\n",
    "try:\n",
    "    from kaggle_secrets import UserSecretsClient\n",
    "    user_secrets = UserSecretsClient()\n",
    "    api_key = user_secrets.get_secret(\"wandb_api\")\n",
    "    wandb.login(key=api_key)\n",
    "    anony = None\n",
    "except:\n",
    "    anony = \"must\"\n",
    "    print('If you want to use your W&B account, go to Add-ons -> Secrets and provide your W&B access token. Use the Label name as wandb_api. \\nGet your W&B access token from here: https://wandb.ai/authorize')"
   ]
  },
  {
   "cell_type": "code",
   "execution_count": 4,
   "id": "d19dd125",
   "metadata": {
    "execution": {
     "iopub.execute_input": "2024-01-25T12:54:27.219700Z",
     "iopub.status.busy": "2024-01-25T12:54:27.219377Z",
     "iopub.status.idle": "2024-01-25T12:54:27.224080Z",
     "shell.execute_reply": "2024-01-25T12:54:27.223249Z"
    },
    "papermill": {
     "duration": 0.013875,
     "end_time": "2024-01-25T12:54:27.225969",
     "exception": false,
     "start_time": "2024-01-25T12:54:27.212094",
     "status": "completed"
    },
    "tags": []
   },
   "outputs": [],
   "source": [
    "gender_df_train=\"/kaggle/input/gender-classification-dataset/Training/\"\n",
    "gender_df_test=\"/kaggle/input/gender-classification-dataset/Validation\"\n",
    "fer_df_train=\"/kaggle/input/fer2013/train/\"\n",
    "fer_df_test=\"/kaggle/input/fer2013/test\""
   ]
  },
  {
   "cell_type": "code",
   "execution_count": 5,
   "id": "a5ac6ec1",
   "metadata": {
    "execution": {
     "iopub.execute_input": "2024-01-25T12:54:27.239843Z",
     "iopub.status.busy": "2024-01-25T12:54:27.239502Z",
     "iopub.status.idle": "2024-01-25T12:55:47.599276Z",
     "shell.execute_reply": "2024-01-25T12:55:47.598244Z"
    },
    "papermill": {
     "duration": 80.369413,
     "end_time": "2024-01-25T12:55:47.601718",
     "exception": false,
     "start_time": "2024-01-25T12:54:27.232305",
     "status": "completed"
    },
    "tags": []
   },
   "outputs": [
    {
     "name": "stdout",
     "output_type": "stream",
     "text": [
      "Found 47009 images belonging to 2 classes.\n"
     ]
    }
   ],
   "source": [
    "#For Training Dataset\n",
    "train_datagen = ImageDataGenerator(\n",
    "        rotation_range = 40,\n",
    "        shear_range = 0.2,\n",
    "        zoom_range = 0.2,\n",
    "        horizontal_flip = True,\n",
    "        brightness_range = (0.5, 1.5))\n",
    "\n",
    "train_gen=train_datagen.flow_from_directory(gender_df_train,\n",
    "                                            target_size=(250,250),\n",
    "                                            batch_size=48,\n",
    "                                            class_mode='binary')"
   ]
  },
  {
   "cell_type": "markdown",
   "id": "1e60ecb3",
   "metadata": {
    "papermill": {
     "duration": 0.006198,
     "end_time": "2024-01-25T12:55:47.614614",
     "exception": false,
     "start_time": "2024-01-25T12:55:47.608416",
     "status": "completed"
    },
    "tags": []
   },
   "source": [
    "# Data Augmentation\n",
    "\n",
    "1. To increase the data set size \n",
    "2. Helps overcome the “not enough data” issue, prevents overfitting, and makes the model perform better on previously unseen samples. "
   ]
  },
  {
   "cell_type": "code",
   "execution_count": 6,
   "id": "20fa3113",
   "metadata": {
    "execution": {
     "iopub.execute_input": "2024-01-25T12:55:47.628773Z",
     "iopub.status.busy": "2024-01-25T12:55:47.628412Z",
     "iopub.status.idle": "2024-01-25T12:59:34.204743Z",
     "shell.execute_reply": "2024-01-25T12:59:34.203618Z"
    },
    "papermill": {
     "duration": 226.586594,
     "end_time": "2024-01-25T12:59:34.207538",
     "exception": false,
     "start_time": "2024-01-25T12:55:47.620944",
     "status": "completed"
    },
    "tags": []
   },
   "outputs": [],
   "source": [
    "import os\n",
    "from keras.preprocessing import image\n",
    "\n",
    "# Specify the directory where you want to save augmented images\n",
    "augmented_dir = 'path/to/augmented_images'\n",
    "\n",
    "# Create the directory if it doesn't exist\n",
    "if not os.path.exists(augmented_dir):\n",
    "    os.makedirs(augmented_dir)\n",
    "\n",
    "# Number of augmented images to generate\n",
    "num_augmented_images = 100  # You can adjust this based on your requirements\n",
    "\n",
    "# Generate and save augmented images\n",
    "for i in range(num_augmented_images):\n",
    "    # Generate a batch of augmented images\n",
    "    batch, labels = train_gen.next()\n",
    "\n",
    "    # Save each augmented image in the batch to the new directory\n",
    "    for j in range(len(batch)):\n",
    "        img = image.array_to_img(batch[j])\n",
    "        img.save(os.path.join(augmented_dir, f'augmented_image_{i * len(batch) + j}.png'))"
   ]
  },
  {
   "cell_type": "code",
   "execution_count": 7,
   "id": "025b3796",
   "metadata": {
    "execution": {
     "iopub.execute_input": "2024-01-25T12:59:34.223924Z",
     "iopub.status.busy": "2024-01-25T12:59:34.223561Z",
     "iopub.status.idle": "2024-01-25T13:05:07.223631Z",
     "shell.execute_reply": "2024-01-25T13:05:07.222757Z"
    },
    "papermill": {
     "duration": 333.017216,
     "end_time": "2024-01-25T13:05:07.232553",
     "exception": false,
     "start_time": "2024-01-25T12:59:34.215337",
     "status": "completed"
    },
    "tags": []
   },
   "outputs": [
    {
     "data": {
      "text/plain": [
       "'path/to/training_combined_dataset/augmented_images'"
      ]
     },
     "execution_count": 7,
     "metadata": {},
     "output_type": "execute_result"
    }
   ],
   "source": [
    "import shutil\n",
    "\n",
    "# Define a new directory for the combined dataset\n",
    "combined_dir = 'path/to/training_combined_dataset'\n",
    "\n",
    "# Create the combined directory if it doesn't exist\n",
    "if not os.path.exists(combined_dir):\n",
    "    os.makedirs(combined_dir)\n",
    "\n",
    "# Copy original training images to the combined directory\n",
    "original_train_dir = '/kaggle/input/gender-classification-dataset/Training/'\n",
    "shutil.copytree(original_train_dir, os.path.join(combined_dir, 'original_training_images'))\n",
    "\n",
    "# Copy augmented images to the combined directory\n",
    "augmented_dir = 'path/to/augmented_images'\n",
    "shutil.copytree(augmented_dir, os.path.join(combined_dir, 'augmented_images'))"
   ]
  },
  {
   "cell_type": "code",
   "execution_count": 8,
   "id": "4f9e95a4",
   "metadata": {
    "execution": {
     "iopub.execute_input": "2024-01-25T13:05:07.247971Z",
     "iopub.status.busy": "2024-01-25T13:05:07.247585Z",
     "iopub.status.idle": "2024-01-25T13:05:07.252075Z",
     "shell.execute_reply": "2024-01-25T13:05:07.251335Z"
    },
    "papermill": {
     "duration": 0.014886,
     "end_time": "2024-01-25T13:05:07.253989",
     "exception": false,
     "start_time": "2024-01-25T13:05:07.239103",
     "status": "completed"
    },
    "tags": []
   },
   "outputs": [],
   "source": [
    "combined=\"/kaggle/working/path/to/training_combined_dataset\""
   ]
  },
  {
   "cell_type": "code",
   "execution_count": 9,
   "id": "78db4f67",
   "metadata": {
    "execution": {
     "iopub.execute_input": "2024-01-25T13:05:07.268497Z",
     "iopub.status.busy": "2024-01-25T13:05:07.268237Z",
     "iopub.status.idle": "2024-01-25T13:06:12.902670Z",
     "shell.execute_reply": "2024-01-25T13:06:12.901620Z"
    },
    "papermill": {
     "duration": 65.644555,
     "end_time": "2024-01-25T13:06:12.905152",
     "exception": false,
     "start_time": "2024-01-25T13:05:07.260597",
     "status": "completed"
    },
    "tags": []
   },
   "outputs": [],
   "source": [
    "import cv2 as cv\n",
    "import os\n",
    "import numpy as np\n",
    "\n",
    "data_train = []\n",
    "labels_train = []\n",
    "\n",
    "new_width = 128\n",
    "new_height = 128\n",
    "\n",
    "# Access original training images\n",
    "original_train_dir = '/kaggle/input/gender-classification-dataset/Training'\n",
    "for class_label in os.listdir(original_train_dir):\n",
    "    class_dir = os.path.join(original_train_dir, class_label)\n",
    "    \n",
    "    for filename in os.listdir(class_dir):\n",
    "        file_path = os.path.join(class_dir, filename)\n",
    "\n",
    "        # Read the image using OpenCV\n",
    "        pic = cv.imread(file_path)\n",
    "\n",
    "        # Check if the image was successfully loaded\n",
    "        if pic is not None:\n",
    "            # Convert the image to grayscale\n",
    "            pic = cv.cvtColor(pic, cv.COLOR_BGR2GRAY)\n",
    "\n",
    "            # Resize the image\n",
    "            pic = cv.resize(pic, (new_width, new_height))\n",
    "\n",
    "            # Append the image to the data_train list\n",
    "            data_train.append(pic)\n",
    "\n",
    "            # Extract the label from the subdirectory name\n",
    "            label = 1 if class_label.lower() == \"female\" else 0\n",
    "            labels_train.append(label)\n",
    "        else:\n",
    "            print(f\"Error loading image: {file_path}\")\n",
    "\n",
    "# Access augmented images\n",
    "augmented_subdir = os.path.join(combined_dir, 'augmented_images')\n",
    "for filename in os.listdir(augmented_subdir):\n",
    "    file_path = os.path.join(augmented_subdir, filename)\n",
    "\n",
    "    # Read the image using OpenCV\n",
    "    pic = cv.imread(file_path)\n",
    "\n",
    "    # Check if the image was successfully loaded\n",
    "    if pic is not None:\n",
    "        # Convert the image to grayscale\n",
    "        pic = cv.cvtColor(pic, cv.COLOR_BGR2GRAY)\n",
    "\n",
    "        # Resize the image\n",
    "        pic = cv.resize(pic, (new_width, new_height))\n",
    "\n",
    "        # Append the image to the data_train list\n",
    "        data_train.append(pic)\n",
    "\n",
    "        # Extract the label from the filename\n",
    "        label = 1 if \"female\" in filename else 0\n",
    "        labels_train.append(label)\n",
    "    else:\n",
    "        print(f\"Error loading image: {file_path}\")\n",
    "\n",
    "# Convert lists to NumPy arrays\n",
    "data_train = np.array(data_train)\n",
    "labels_train = np.array(labels_train)"
   ]
  },
  {
   "cell_type": "code",
   "execution_count": 10,
   "id": "96b1efe6",
   "metadata": {
    "execution": {
     "iopub.execute_input": "2024-01-25T13:06:12.920778Z",
     "iopub.status.busy": "2024-01-25T13:06:12.920449Z",
     "iopub.status.idle": "2024-01-25T13:06:13.132548Z",
     "shell.execute_reply": "2024-01-25T13:06:13.131813Z"
    },
    "papermill": {
     "duration": 0.222456,
     "end_time": "2024-01-25T13:06:13.134801",
     "exception": false,
     "start_time": "2024-01-25T13:06:12.912345",
     "status": "completed"
    },
    "tags": []
   },
   "outputs": [],
   "source": [
    "import tensorflow as tf\n",
    "from keras.models import Sequential\n",
    "from keras.layers import Conv2D, MaxPooling2D, Flatten, Dense, Dropout\n",
    "from keras.optimizers import Adam\n",
    "from keras.callbacks import EarlyStopping\n",
    "from keras.regularizers import l2\n",
    "from sklearn.metrics import confusion_matrix,ConfusionMatrixDisplay\n",
    "from sklearn.metrics import classification_report, roc_curve, auc\n",
    "import matplotlib.pyplot as plt\n",
    "import seaborn as sns\n",
    "from sklearn.model_selection import train_test_split\n",
    "import numpy as np\n",
    "from tensorflow.keras.utils import plot_model\n"
   ]
  },
  {
   "cell_type": "code",
   "execution_count": 11,
   "id": "06261fe2",
   "metadata": {
    "execution": {
     "iopub.execute_input": "2024-01-25T13:06:13.149812Z",
     "iopub.status.busy": "2024-01-25T13:06:13.149486Z",
     "iopub.status.idle": "2024-01-25T13:06:13.163808Z",
     "shell.execute_reply": "2024-01-25T13:06:13.163095Z"
    },
    "papermill": {
     "duration": 0.023964,
     "end_time": "2024-01-25T13:06:13.165714",
     "exception": false,
     "start_time": "2024-01-25T13:06:13.141750",
     "status": "completed"
    },
    "tags": []
   },
   "outputs": [],
   "source": [
    "# Define the VGGNet16 model\n",
    "def create_vggnet16_model(input_shape=(128, 128, 1)):\n",
    "    model = Sequential()\n",
    "\n",
    "    # Block 1\n",
    "    model.add(Conv2D(64, (3, 3), activation='relu', padding='same', input_shape=input_shape))\n",
    "    model.add(Conv2D(64, (3, 3), activation='relu', padding='same'))\n",
    "    model.add(MaxPooling2D(pool_size=(2, 2), strides=(2, 2)))\n",
    "\n",
    "    # Block 2\n",
    "    model.add(Conv2D(128, (3, 3), activation='relu', padding='same'))\n",
    "    model.add(Conv2D(128, (3, 3), activation='relu', padding='same'))\n",
    "    model.add(MaxPooling2D(pool_size=(2, 2), strides=(2, 2)))\n",
    "\n",
    "    # Block 3\n",
    "    model.add(Conv2D(256, (3, 3), activation='relu', padding='same'))\n",
    "    model.add(Conv2D(256, (3, 3), activation='relu', padding='same'))\n",
    "    model.add(Conv2D(256, (3, 3), activation='relu', padding='same'))\n",
    "    model.add(MaxPooling2D(pool_size=(2, 2), strides=(2, 2)))\n",
    "\n",
    "    # Block 4\n",
    "    model.add(Conv2D(512, (3, 3), activation='relu', padding='same'))\n",
    "    model.add(Conv2D(512, (3, 3), activation='relu', padding='same'))\n",
    "    model.add(Conv2D(512, (3, 3), activation='relu', padding='same'))\n",
    "    model.add(MaxPooling2D(pool_size=(2, 2), strides=(2, 2)))\n",
    "    \n",
    "    # Block 5\n",
    "    model.add(Conv2D(512, (3, 3), activation='relu', padding='same'))\n",
    "    model.add(Conv2D(512, (3, 3), activation='relu', padding='same'))\n",
    "    model.add(Conv2D(512, (3, 3), activation='relu', padding='same'))\n",
    "    model.add(MaxPooling2D(pool_size=(2, 2), strides=(2, 2)))\n",
    "\n",
    "    # Fully connected layers\n",
    "    model.add(Flatten())\n",
    "    model.add(Dense(512, activation='relu'))\n",
    "    model.add(Dropout(0.5))\n",
    "    \n",
    "    # Output layer\n",
    "    model.add(Dense(2, activation='softmax'))\n",
    "    \n",
    "    model.summary()\n",
    "    plot_model(model)\n",
    "    return model"
   ]
  },
  {
   "cell_type": "code",
   "execution_count": 12,
   "id": "1439ad04",
   "metadata": {
    "execution": {
     "iopub.execute_input": "2024-01-25T13:06:13.180147Z",
     "iopub.status.busy": "2024-01-25T13:06:13.179856Z",
     "iopub.status.idle": "2024-01-25T13:24:07.757013Z",
     "shell.execute_reply": "2024-01-25T13:24:07.755962Z"
    },
    "papermill": {
     "duration": 1074.587056,
     "end_time": "2024-01-25T13:24:07.759372",
     "exception": false,
     "start_time": "2024-01-25T13:06:13.172316",
     "status": "completed"
    },
    "tags": []
   },
   "outputs": [
    {
     "name": "stderr",
     "output_type": "stream",
     "text": [
      "\u001b[34m\u001b[1mwandb\u001b[0m: Currently logged in as: \u001b[33mdishaa_s\u001b[0m. Use \u001b[1m`wandb login --relogin`\u001b[0m to force relogin\n",
      "\u001b[34m\u001b[1mwandb\u001b[0m: Tracking run with wandb version 0.16.2\n",
      "\u001b[34m\u001b[1mwandb\u001b[0m: Run data is saved locally in \u001b[35m\u001b[1m/kaggle/working/wandb/run-20240125_130613-zx0hue8e\u001b[0m\n",
      "\u001b[34m\u001b[1mwandb\u001b[0m: Run \u001b[1m`wandb offline`\u001b[0m to turn off syncing.\n",
      "\u001b[34m\u001b[1mwandb\u001b[0m: Syncing run \u001b[33mplayful-cherry-21\u001b[0m\n",
      "\u001b[34m\u001b[1mwandb\u001b[0m: ⭐️ View project at \u001b[34m\u001b[4mhttps://wandb.ai/dishaa_s/gender-recognition-from-images\u001b[0m\n",
      "\u001b[34m\u001b[1mwandb\u001b[0m: 🚀 View run at \u001b[34m\u001b[4mhttps://wandb.ai/dishaa_s/gender-recognition-from-images/runs/zx0hue8e\u001b[0m\n"
     ]
    },
    {
     "name": "stdout",
     "output_type": "stream",
     "text": [
      "Model: \"sequential\"\n",
      "_________________________________________________________________\n",
      " Layer (type)                Output Shape              Param #   \n",
      "=================================================================\n",
      " conv2d (Conv2D)             (None, 128, 128, 64)      640       \n",
      "                                                                 \n",
      " conv2d_1 (Conv2D)           (None, 128, 128, 64)      36928     \n",
      "                                                                 \n",
      " max_pooling2d (MaxPooling2  (None, 64, 64, 64)        0         \n",
      " D)                                                              \n",
      "                                                                 \n",
      " conv2d_2 (Conv2D)           (None, 64, 64, 128)       73856     \n",
      "                                                                 \n",
      " conv2d_3 (Conv2D)           (None, 64, 64, 128)       147584    \n",
      "                                                                 \n",
      " max_pooling2d_1 (MaxPoolin  (None, 32, 32, 128)       0         \n",
      " g2D)                                                            \n",
      "                                                                 \n",
      " conv2d_4 (Conv2D)           (None, 32, 32, 256)       295168    \n",
      "                                                                 \n",
      " conv2d_5 (Conv2D)           (None, 32, 32, 256)       590080    \n",
      "                                                                 \n",
      " conv2d_6 (Conv2D)           (None, 32, 32, 256)       590080    \n",
      "                                                                 \n",
      " max_pooling2d_2 (MaxPoolin  (None, 16, 16, 256)       0         \n",
      " g2D)                                                            \n",
      "                                                                 \n",
      " conv2d_7 (Conv2D)           (None, 16, 16, 512)       1180160   \n",
      "                                                                 \n",
      " conv2d_8 (Conv2D)           (None, 16, 16, 512)       2359808   \n",
      "                                                                 \n",
      " conv2d_9 (Conv2D)           (None, 16, 16, 512)       2359808   \n",
      "                                                                 \n",
      " max_pooling2d_3 (MaxPoolin  (None, 8, 8, 512)         0         \n",
      " g2D)                                                            \n",
      "                                                                 \n",
      " conv2d_10 (Conv2D)          (None, 8, 8, 512)         2359808   \n",
      "                                                                 \n",
      " conv2d_11 (Conv2D)          (None, 8, 8, 512)         2359808   \n",
      "                                                                 \n",
      " conv2d_12 (Conv2D)          (None, 8, 8, 512)         2359808   \n",
      "                                                                 \n",
      " max_pooling2d_4 (MaxPoolin  (None, 4, 4, 512)         0         \n",
      " g2D)                                                            \n",
      "                                                                 \n",
      " flatten (Flatten)           (None, 8192)              0         \n",
      "                                                                 \n",
      " dense (Dense)               (None, 512)               4194816   \n",
      "                                                                 \n",
      " dropout (Dropout)           (None, 512)               0         \n",
      "                                                                 \n",
      " dense_1 (Dense)             (None, 2)                 1026      \n",
      "                                                                 \n",
      "=================================================================\n",
      "Total params: 18909378 (72.13 MB)\n",
      "Trainable params: 18909378 (72.13 MB)\n",
      "Non-trainable params: 0 (0.00 Byte)\n",
      "_________________________________________________________________\n",
      "Epoch 1/15\n",
      "324/324 [==============================] - 110s 299ms/step - loss: 11.3538 - accuracy: 0.5605 - val_loss: 0.6898 - val_accuracy: 0.5515\n",
      "Epoch 2/15\n",
      "324/324 [==============================] - 88s 272ms/step - loss: 0.6885 - accuracy: 0.5513 - val_loss: 0.6879 - val_accuracy: 0.5515\n",
      "Epoch 3/15\n",
      "324/324 [==============================] - 88s 272ms/step - loss: 0.6879 - accuracy: 0.5513 - val_loss: 0.6878 - val_accuracy: 0.5515\n",
      "Epoch 4/15\n",
      "324/324 [==============================] - 88s 272ms/step - loss: 0.6879 - accuracy: 0.5513 - val_loss: 0.6878 - val_accuracy: 0.5515\n",
      "Epoch 5/15\n",
      "324/324 [==============================] - 88s 272ms/step - loss: 0.6879 - accuracy: 0.5513 - val_loss: 0.6878 - val_accuracy: 0.5515\n",
      "Epoch 6/15\n",
      "324/324 [==============================] - 88s 272ms/step - loss: 0.6879 - accuracy: 0.5513 - val_loss: 0.6878 - val_accuracy: 0.5515\n",
      "Epoch 7/15\n",
      "324/324 [==============================] - 88s 273ms/step - loss: 0.6879 - accuracy: 0.5513 - val_loss: 0.6878 - val_accuracy: 0.5515\n",
      "Epoch 8/15\n",
      "324/324 [==============================] - 88s 272ms/step - loss: 0.6879 - accuracy: 0.5513 - val_loss: 0.6878 - val_accuracy: 0.5515\n",
      "Epoch 9/15\n",
      "324/324 [==============================] - 88s 272ms/step - loss: 0.6879 - accuracy: 0.5513 - val_loss: 0.6878 - val_accuracy: 0.5515\n",
      "Epoch 10/15\n",
      "324/324 [==============================] - 88s 272ms/step - loss: 0.6879 - accuracy: 0.5513 - val_loss: 0.6878 - val_accuracy: 0.5515\n",
      "Epoch 11/15\n",
      "324/324 [==============================] - 88s 272ms/step - loss: 0.6879 - accuracy: 0.5513 - val_loss: 0.6879 - val_accuracy: 0.5515\n",
      "324/324 [==============================] - 9s 24ms/step - loss: 0.6878 - accuracy: 0.5515\n",
      "1296/1296 [==============================] - 29s 22ms/step - loss: 47986868.0000 - accuracy: 0.5514\n",
      "Test Loss: 0.6878, Test Accuracy: 0.5515\n",
      "Train Loss: 47986868.0000, Train Accuracy: 0.5514\n",
      "324/324 [==============================] - 7s 20ms/step\n"
     ]
    }
   ],
   "source": [
    "dataset = np.array(data_train)\n",
    "labels = np.array(labels_train)\n",
    "\n",
    "# Split the dataset into training and testing sets\n",
    "X_train, X_test, y_train, y_test = train_test_split(dataset, labels, test_size=0.2, random_state=42)\n",
    "\n",
    "run=wandb.init(project='gender-recognition-from-images',\n",
    "              config={\n",
    "                  'learning_rate':0.001,\n",
    "                  'batch_size': 128,\n",
    "                  'epochs': 10, \n",
    "                  'test_size' : 0.2})\n",
    "\n",
    "config=wandb.config\n",
    "\n",
    "# Create and compile the VGGNet16 model\n",
    "model = create_vggnet16_model()\n",
    "optimizer = tf.keras.optimizers.Adam(config.learning_rate)\n",
    "model.compile(optimizer, loss='sparse_categorical_crossentropy', metrics=['accuracy'])\n",
    "\n",
    "# Define early stopping\n",
    "early_stopping = EarlyStopping(monitor='val_loss', patience=3, restore_best_weights=True)\n",
    "\n",
    "# Train the model\n",
    "history = model.fit(X_train, y_train, epochs=15, batch_size=128, validation_data=(X_test, y_test), callbacks=[early_stopping])\n",
    "\n",
    "# Print test loss, test accuracy, train loss, train accuracy\n",
    "test_loss, test_accuracy = model.evaluate(X_test, y_test)\n",
    "train_loss, train_accuracy = model.evaluate(X_train, y_train)\n",
    "print(f\"Test Loss: {test_loss:.4f}, Test Accuracy: {test_accuracy:.4f}\")\n",
    "print(f\"Train Loss: {train_loss:.4f}, Train Accuracy: {train_accuracy:.4f}\")\n",
    "    \n",
    "# Predict on test set\n",
    "y_pred = model.predict(X_test)\n",
    "\n",
    "# Convert predictions to class labels\n",
    "y_pred_classes = np.argmax(y_pred, axis=1)"
   ]
  },
  {
   "cell_type": "code",
   "execution_count": 13,
   "id": "7ef9f904",
   "metadata": {
    "execution": {
     "iopub.execute_input": "2024-01-25T13:24:08.514590Z",
     "iopub.status.busy": "2024-01-25T13:24:08.514221Z",
     "iopub.status.idle": "2024-01-25T13:24:08.829749Z",
     "shell.execute_reply": "2024-01-25T13:24:08.828550Z"
    },
    "papermill": {
     "duration": 0.723186,
     "end_time": "2024-01-25T13:24:08.832296",
     "exception": false,
     "start_time": "2024-01-25T13:24:08.109110",
     "status": "completed"
    },
    "tags": []
   },
   "outputs": [
    {
     "data": {
      "image/png": "[encoded data removed]",
      "text/plain": [
       "<Figure size 800x600 with 2 Axes>"
      ]
     },
     "metadata": {},
     "output_type": "display_data"
    },
    {
     "name": "stdout",
     "output_type": "stream",
     "text": [
      "Classification Report:\n",
      "              precision    recall  f1-score   support\n",
      "\n",
      "           0       0.55      1.00      0.71      5715\n",
      "           1       0.00      0.00      0.00      4647\n",
      "\n",
      "    accuracy                           0.55     10362\n",
      "   macro avg       0.28      0.50      0.36     10362\n",
      "weighted avg       0.30      0.55      0.39     10362\n",
      "\n"
     ]
    },
    {
     "name": "stderr",
     "output_type": "stream",
     "text": [
      "/opt/conda/lib/python3.10/site-packages/sklearn/metrics/_classification.py:1344: UndefinedMetricWarning: Precision and F-score are ill-defined and being set to 0.0 in labels with no predicted samples. Use `zero_division` parameter to control this behavior.\n",
      "  _warn_prf(average, modifier, msg_start, len(result))\n",
      "/opt/conda/lib/python3.10/site-packages/sklearn/metrics/_classification.py:1344: UndefinedMetricWarning: Precision and F-score are ill-defined and being set to 0.0 in labels with no predicted samples. Use `zero_division` parameter to control this behavior.\n",
      "  _warn_prf(average, modifier, msg_start, len(result))\n",
      "/opt/conda/lib/python3.10/site-packages/sklearn/metrics/_classification.py:1344: UndefinedMetricWarning: Precision and F-score are ill-defined and being set to 0.0 in labels with no predicted samples. Use `zero_division` parameter to control this behavior.\n",
      "  _warn_prf(average, modifier, msg_start, len(result))\n"
     ]
    }
   ],
   "source": [
    "# Create confusion matrix\n",
    "conf_matrix = confusion_matrix(y_test, y_pred_classes)\n",
    "\n",
    "# Visualize confusion matrix\n",
    "plt.figure(figsize=(8, 6))\n",
    "sns.heatmap(conf_matrix, annot=True, fmt='d', cmap='viridis', xticklabels=['Male', 'Female'], yticklabels=['Male', 'Female'])\n",
    "plt.title('Confusion Matrix')\n",
    "plt.xlabel('Predicted')\n",
    "plt.ylabel('True')\n",
    "plt.show()\n",
    "\n",
    "# Display classification report\n",
    "print(\"Classification Report:\")\n",
    "print(classification_report(y_test, y_pred_classes))"
   ]
  },
  {
   "cell_type": "code",
   "execution_count": 14,
   "id": "82f0176e",
   "metadata": {
    "execution": {
     "iopub.execute_input": "2024-01-25T13:24:09.557182Z",
     "iopub.status.busy": "2024-01-25T13:24:09.556461Z",
     "iopub.status.idle": "2024-01-25T13:24:09.797432Z",
     "shell.execute_reply": "2024-01-25T13:24:09.796570Z"
    },
    "papermill": {
     "duration": 0.595665,
     "end_time": "2024-01-25T13:24:09.799481",
     "exception": false,
     "start_time": "2024-01-25T13:24:09.203816",
     "status": "completed"
    },
    "tags": []
   },
   "outputs": [
    {
     "data": {
      "image/png": "[encoded data removed]",
      "text/plain": [
       "<Figure size 640x480 with 1 Axes>"
      ]
     },
     "metadata": {},
     "output_type": "display_data"
    }
   ],
   "source": [
    "# Plot train loss and validation loss over epochs\n",
    "plt.plot(history.history['loss'], label='Train Loss')\n",
    "plt.plot(history.history['val_loss'], label='Validation Loss')\n",
    "plt.xlabel('Epochs')\n",
    "plt.ylabel('Loss')\n",
    "plt.legend()\n",
    "plt.show()"
   ]
  },
  {
   "cell_type": "code",
   "execution_count": 15,
   "id": "7a559461",
   "metadata": {
    "execution": {
     "iopub.execute_input": "2024-01-25T13:24:10.504995Z",
     "iopub.status.busy": "2024-01-25T13:24:10.504121Z",
     "iopub.status.idle": "2024-01-25T13:24:10.877043Z",
     "shell.execute_reply": "2024-01-25T13:24:10.876211Z"
    },
    "papermill": {
     "duration": 0.728865,
     "end_time": "2024-01-25T13:24:10.879226",
     "exception": false,
     "start_time": "2024-01-25T13:24:10.150361",
     "status": "completed"
    },
    "tags": []
   },
   "outputs": [
    {
     "name": "stderr",
     "output_type": "stream",
     "text": [
      "/opt/conda/lib/python3.10/site-packages/keras/src/engine/training.py:3000: UserWarning: You are saving your model as an HDF5 file via `model.save()`. This file format is considered legacy. We recommend using instead the native Keras format, e.g. `model.save('my_model.keras')`.\n",
      "  saving_api.save_model(\n"
     ]
    }
   ],
   "source": [
    "model.save('model.h5')"
   ]
  }
 ],
 "metadata": {
  "kaggle": {
   "accelerator": "gpu",
   "dataSources": [
    {
     "datasetId": 446365,
     "sourceId": 844929,
     "sourceType": "datasetVersion"
    },
    {
     "datasetId": 786787,
     "sourceId": 1351797,
     "sourceType": "datasetVersion"
    }
   ],
   "dockerImageVersionId": 30626,
   "isGpuEnabled": true,
   "isInternetEnabled": true,
   "language": "python",
   "sourceType": "notebook"
  },
  "kernelspec": {
   "display_name": "Python 3",
   "language": "python",
   "name": "python3"
  },
  "language_info": {
   "codemirror_mode": {
    "name": "ipython",
    "version": 3
   },
   "file_extension": ".py",
   "mimetype": "text/x-python",
   "name": "python",
   "nbconvert_exporter": "python",
   "pygments_lexer": "ipython3",
   "version": "3.10.12"
  },
  "papermill": {
   "default_parameters": {},
   "duration": 1822.218333,
   "end_time": "2024-01-25T13:24:14.053232",
   "environment_variables": {},
   "exception": null,
   "input_path": "__notebook__.ipynb",
   "output_path": "__notebook__.ipynb",
   "parameters": {},
   "start_time": "2024-01-25T12:53:51.834899",
   "version": "2.4.0"
  }
 },
 "nbformat": 4,
 "nbformat_minor": 5
}
